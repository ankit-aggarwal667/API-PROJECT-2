{
 "cells": [
  {
   "cell_type": "markdown",
   "metadata": {},
   "source": [
    "# API Project "
   ]
  },
  {
   "cell_type": "markdown",
   "metadata": {},
   "source": [
    "## (A)The dataset is highly skewed toward the cities included in Delhi-NCR. So, we will summarise all the other cities in Rest of India while those in New Delhi, Ghaziabad, Noida, Gurgaon, Faridabad to Delhi-NCR. Doing this would make our analysis turn toward Delhi-NCR v Rest of India."
   ]
  },
  {
   "cell_type": "markdown",
   "metadata": {},
   "source": [
    "### (1)Plot the bar graph of number of restaurants present in Delhi NCR vs Rest of India."
   ]
  },
  {
   "cell_type": "code",
   "execution_count": 4,
   "metadata": {},
   "outputs": [
    {
     "data": {
      "image/png": "[encoded data removed]",
      "text/plain": [
       "<Figure size 432x288 with 1 Axes>"
      ]
     },
     "metadata": {
      "needs_background": "light"
     },
     "output_type": "display_data"
    }
   ],
   "source": [
    "import numpy as np\n",
    "import pandas as pd\n",
    "import matplotlib.pyplot as plt\n",
    "iris=pd.read_csv('C:/Users/Ankit Aggarwal/Desktop/zomato.csv',encoding='ISO-8859-1')\n",
    "df=iris.copy()\n",
    "ef=df[df['Country Code']==1]\n",
    "total_res=ef.City.count()\n",
    "total_NCR=0\n",
    "li=['New Delhi','Ghaziabad','Noida','Gurgaon','Faridabad']\n",
    "for i in li:\n",
    "    tf=df[df.City==i]\n",
    "    total_NCR+=tf.City.count()\n",
    "Rest_res=total_res-total_NCR\n",
    "li=[total_NCR,Rest_res]\n",
    "li_1=['Delhi_NCR','Rest_of_India']\n",
    "plt.bar(li_1,li)\n",
    "plt.show()"
   ]
  },
  {
   "cell_type": "code",
   "execution_count": null,
   "metadata": {},
   "outputs": [],
   "source": []
  },
  {
   "cell_type": "markdown",
   "metadata": {},
   "source": [
    "### (2)Find the cuisines which are not present in restaurant of Delhi NCR but present in rest of India.Check using Zomato API whether this cuisines are actually not served in restaurants of Delhi-NCR or just it due to incomplete dataset."
   ]
  },
  {
   "cell_type": "code",
   "execution_count": 26,
   "metadata": {},
   "outputs": [
    {
     "name": "stdout",
     "output_type": "stream",
     "text": [
      "Cajun\n",
      "BBQ\n",
      "Malwani\n",
      "German\n"
     ]
    }
   ],
   "source": [
    "import numpy as np\n",
    "import pandas as pd\n",
    "import matplotlib.pyplot as plt\n",
    "iris=pd.read_csv('C:/Users/Ankit Aggarwal/Desktop/zomato.csv',encoding='ISO-8859-1')\n",
    "df=iris.copy()\n",
    "delhi_ncr_cuisines=[]\n",
    "rest_cuisines=[]\n",
    "total=[]\n",
    "final_cuisines=[]\n",
    "li=['New Delhi','Ghaziabad','Noida','Gurgaon','Faridabad ']\n",
    "ef=df[df['Country Code']==1]\n",
    "kf=ef.copy()\n",
    "def f(s):\n",
    "    val=s.split(',')\n",
    "    new=[]\n",
    "    if len(val)==1:\n",
    "        return val[0].strip()\n",
    "    else:\n",
    "        for i in val:\n",
    "            new.append(i.strip())\n",
    "        return new\n",
    "            \n",
    "kf['total_Cuisines']=ef.Cuisines.apply(f)\n",
    "new=kf.total_Cuisines.value_counts()\n",
    "new_val=new.index\n",
    "for i in new_val:\n",
    "    if type(i)==str:\n",
    "        total.append(i)\n",
    "    else:\n",
    "        for j in i:\n",
    "            total.append(j)\n",
    "for i in li:\n",
    "    def f(s):\n",
    "        val=s.split(',')\n",
    "        new=[]\n",
    "        if len(val)==1:\n",
    "            return val[0].strip()\n",
    "        else:\n",
    "            for i in val:\n",
    "                new.append(i.strip())\n",
    "            return new\n",
    "\n",
    "    tf=ef[ef.City==i]\n",
    "    kf=tf.copy()\n",
    "    kf['new_cuisine']=tf.Cuisines.apply(f)\n",
    "    new_val=kf.new_cuisine.value_counts()\n",
    "    final_val=new_val.index\n",
    "    for i in final_val:\n",
    "        if type(i)==str:\n",
    "            delhi_ncr_cuisines.append(i)\n",
    "        else:\n",
    "            for j in i:\n",
    "                delhi_ncr_cuisines.append(j)\n",
    "unique_delhi_ncr_cuisines=set(delhi_ncr_cuisines)                \n",
    "unique_total=set(total)\n",
    "for i in unique_total:\n",
    "    if i not in unique_delhi_ncr_cuisines:\n",
    "        final_cuisines.append(i)\n",
    "        \n",
    "for i in final_cuisines:\n",
    "    print(i)"
   ]
  },
  {
   "cell_type": "code",
   "execution_count": null,
   "metadata": {},
   "outputs": [],
   "source": []
  },
  {
   "cell_type": "markdown",
   "metadata": {},
   "source": [
    "### (3)Find the top 10 cuisines served by maximum number of restaurants in Delhi NCR and rest of India."
   ]
  },
  {
   "cell_type": "code",
   "execution_count": 10,
   "metadata": {},
   "outputs": [
    {
     "name": "stdout",
     "output_type": "stream",
     "text": [
      "North Indian\n",
      "Chinese\n",
      "Continental\n",
      "Italian\n",
      "Fast Food\n",
      "Cafe\n",
      "South Indian\n",
      "Street Food\n",
      "Asian\n",
      "Mughlai\n"
     ]
    }
   ],
   "source": [
    "import numpy as np\n",
    "import pandas as pd\n",
    "import matplotlib.pyplot as plt\n",
    "iris=pd.read_csv('C:/Users/Ankit Aggarwal/Desktop/zomato.csv',encoding='ISO-8859-1')\n",
    "df=iris.copy()\n",
    "total=[]\n",
    "final_dict={}\n",
    "final_cuisine=[]\n",
    "final_count=[]\n",
    "ef=df[df['Country Code']==1]\n",
    "kf=ef.copy()\n",
    "def f(s):\n",
    "    val=s.split(',')\n",
    "    new=[]\n",
    "    if len(val)==1:\n",
    "        return val[0].strip()\n",
    "    else:\n",
    "        for i in val:\n",
    "            new.append(i.strip())\n",
    "        return new\n",
    "            \n",
    "kf['total_Cuisines']=ef.Cuisines.apply(f)\n",
    "new=kf.total_Cuisines.value_counts()\n",
    "new_val=new.index\n",
    "for i in new_val:\n",
    "    if type(i)==str:\n",
    "        total.append(i)\n",
    "    else:\n",
    "        for j in i:\n",
    "            total.append(j)\n",
    "for i in total:\n",
    "    if i in final_dict:\n",
    "        final_dict[i]+=1 \n",
    "    else:\n",
    "        final_dict[i]=1\n",
    "for k in range(10):\n",
    "    maxi=-99999\n",
    "    for i in final_dict:\n",
    "        if final_dict[i]>maxi:\n",
    "            val=i\n",
    "            maxi=final_dict[i]\n",
    "    final_cuisine.append(val)\n",
    "    final_count.append(maxi)\n",
    "    final_dict[val]=-99999999\n",
    "for i in final_cuisine:\n",
    "    print(i)"
   ]
  },
  {
   "cell_type": "code",
   "execution_count": null,
   "metadata": {},
   "outputs": [],
   "source": []
  },
  {
   "cell_type": "markdown",
   "metadata": {},
   "source": [
    "### (4)Write a short detailed analysis of how cuisine served is different from Delhi NCR to Rest of India. Plot the suitable graph to explain your inference."
   ]
  },
  {
   "cell_type": "code",
   "execution_count": 2,
   "metadata": {},
   "outputs": [
    {
     "data": {
      "image/png": "[encoded data removed]",
      "text/plain": [
       "<Figure size 432x288 with 1 Axes>"
      ]
     },
     "metadata": {
      "needs_background": "light"
     },
     "output_type": "display_data"
    }
   ],
   "source": [
    "import numpy as np\n",
    "import pandas as pd\n",
    "import matplotlib.pyplot as plt\n",
    "iris=pd.read_csv('C:/Users/Ankit Aggarwal/Desktop/zomato.csv',encoding='ISO-8859-1')\n",
    "df=iris.copy()\n",
    "delhi_ncr_cuisines=[]\n",
    "rest_cuisines=[]\n",
    "total=[]\n",
    "final_delhi_dict={}\n",
    "final_rest_dict={}\n",
    "top_10_delhi=[]\n",
    "top_10_delhi_count=[]\n",
    "top_10_rest=[]\n",
    "top_10_rest_count=[]\n",
    "li=['New Delhi','Ghaziabad','Noida','Gurgaon','Faridabad ']\n",
    "ef=df[df['Country Code']==1]\n",
    "kf=ef.copy()\n",
    "def f(s):\n",
    "    val=s.split(',')\n",
    "    new=[]\n",
    "    if len(val)==1:\n",
    "        return val[0].strip()\n",
    "    else:\n",
    "        for i in val:\n",
    "            new.append(i.strip())\n",
    "        return new\n",
    "            \n",
    "kf['total_Cuisines']=ef.Cuisines.apply(f)\n",
    "new=kf.total_Cuisines.value_counts()\n",
    "new_val=new.index\n",
    "for i in new_val:\n",
    "    if type(i)==str:\n",
    "        total.append(i)\n",
    "    else:\n",
    "        for j in i:\n",
    "            total.append(j)\n",
    "for i in li:\n",
    "    def f(s):\n",
    "        val=s.split(',')\n",
    "        new=[]\n",
    "        if len(val)==1:\n",
    "            return val[0].strip()\n",
    "        else:\n",
    "            for i in val:\n",
    "                new.append(i.strip())\n",
    "            return new\n",
    "\n",
    "    tf=ef[ef.City==i]\n",
    "    kf=tf.copy()\n",
    "    kf['new_cuisine']=tf.Cuisines.apply(f)\n",
    "    new_val=kf.new_cuisine.value_counts()\n",
    "    final_val=new_val.index\n",
    "    for i in final_val:\n",
    "        if type(i)==str:\n",
    "            delhi_ncr_cuisines.append(i)\n",
    "        else:\n",
    "            for j in i:\n",
    "                delhi_ncr_cuisines.append(j)\n",
    "rest_cuisines=total.copy()\n",
    "for i in delhi_ncr_cuisines:\n",
    "    if i in rest_cuisines:\n",
    "        rest_cuisines.remove(i)\n",
    "for i in delhi_ncr_cuisines:\n",
    "    if i in final_delhi_dict:\n",
    "        final_delhi_dict[i]+=1\n",
    "    else:\n",
    "        final_delhi_dict[i]=1\n",
    "for i in rest_cuisines:\n",
    "    if i in final_rest_dict:\n",
    "        final_rest_dict[i]+=1\n",
    "    else:\n",
    "        final_rest_dict[i]=1\n",
    "for k in range(10):\n",
    "    maxi=-99999\n",
    "    for i in final_delhi_dict:\n",
    "        if final_delhi_dict[i]>maxi:\n",
    "            val=i\n",
    "            maxi=final_delhi_dict[i]\n",
    "    top_10_delhi.append(val)\n",
    "    top_10_delhi_count.append(maxi)\n",
    "    final_delhi_dict[val]=-99999999\n",
    "    \n",
    "for k in range(10):\n",
    "    maxi=-99999\n",
    "    for i in final_rest_dict:\n",
    "        if final_rest_dict[i]>maxi:\n",
    "            val=i\n",
    "            maxi=final_rest_dict[i]\n",
    "    top_10_rest.append(val)\n",
    "    top_10_rest_count.append(maxi)\n",
    "    final_rest_dict[val]=-99999999\n",
    "plt.plot(top_10_delhi,top_10_delhi_count,color='red',linewidth=5,label='Delhi Cuisine')\n",
    "plt.plot(top_10_rest,top_10_rest_count,color='black',linewidth=5,label='Rest Cuisine')\n",
    "plt.xlabel('Cuisines')\n",
    "plt.ylabel('Total')\n",
    "plt.legend()\n",
    "plt.xticks(rotation=60)\n",
    "plt.show()"
   ]
  },
  {
   "cell_type": "code",
   "execution_count": null,
   "metadata": {},
   "outputs": [],
   "source": []
  },
  {
   "cell_type": "markdown",
   "metadata": {},
   "source": [
    "## (B)User Rating of a restaurant plays a crucial role in selecting a restaurant or ordering the food from the restaurant."
   ]
  },
  {
   "cell_type": "markdown",
   "metadata": {},
   "source": [
    "### (B.1)Write a short detail analysis of how the rating is affected by restaurant due following features: Plot a suitable graph to explain your inference."
   ]
  },
  {
   "cell_type": "markdown",
   "metadata": {},
   "source": [
    "### (1)Number of Votes given Restaurant"
   ]
  },
  {
   "cell_type": "code",
   "execution_count": 51,
   "metadata": {},
   "outputs": [
    {
     "data": {
      "image/png": "[encoded data removed]",
      "text/plain": [
       "<Figure size 432x288 with 1 Axes>"
      ]
     },
     "metadata": {
      "needs_background": "light"
     },
     "output_type": "display_data"
    }
   ],
   "source": [
    "import numpy as np\n",
    "import pandas as pd\n",
    "import matplotlib.pyplot as plt\n",
    "iris=pd.read_csv('C:/Users/Ankit Aggarwal/Desktop/zomato.csv',encoding='ISO-8859-1')\n",
    "df=iris.copy()\n",
    "ratings=df['Aggregate rating'].values\n",
    "votes=df['Votes'].values\n",
    "np_ratings=np.array(ratings)\n",
    "np_votes=np.array(votes)\n",
    "plt.bar(np_ratings,np_votes)\n",
    "plt.xlabel('Ratings')\n",
    "plt.ylabel('Votes')\n",
    "plt.show()\n"
   ]
  },
  {
   "cell_type": "code",
   "execution_count": null,
   "metadata": {},
   "outputs": [],
   "source": []
  },
  {
   "cell_type": "markdown",
   "metadata": {},
   "source": [
    "### (2)Restaurant serving more number of cuisines."
   ]
  },
  {
   "cell_type": "code",
   "execution_count": 81,
   "metadata": {},
   "outputs": [
    {
     "data": {
      "image/png": "[encoded data removed]",
      "text/plain": [
       "<Figure size 432x288 with 1 Axes>"
      ]
     },
     "metadata": {
      "needs_background": "light"
     },
     "output_type": "display_data"
    }
   ],
   "source": [
    "import numpy as np\n",
    "import pandas as pd\n",
    "import matplotlib.pyplot as plt\n",
    "iris=pd.read_csv('C:/Users/Ankit Aggarwal/Desktop/zomato.csv',encoding='ISO-8859-1')\n",
    "df=iris.copy()\n",
    "ratings=df['Aggregate rating'].values\n",
    "np_ratings=np.array(ratings)\n",
    "def f(s):\n",
    "    if s!='':\n",
    "        val=s.split(',')\n",
    "        return len(val)\n",
    "    return 0\n",
    "kf=df.copy()\n",
    "df.Cuisines.fillna('',inplace=True)\n",
    "kf['no_of_cuisines']=df['Cuisines'].apply(f)\n",
    "no_of_cuisines=kf['no_of_cuisines'].values\n",
    "np_no_of_cuisines=np.array(no_of_cuisines)\n",
    "plt.bar(np_ratings,np_no_of_cuisines)\n",
    "plt.xlabel('Rating')\n",
    "plt.ylabel('No_of_cuisines')\n",
    "plt.show()"
   ]
  },
  {
   "cell_type": "code",
   "execution_count": null,
   "metadata": {},
   "outputs": [],
   "source": []
  },
  {
   "cell_type": "markdown",
   "metadata": {},
   "source": [
    "## (B.2)Find the weighted restaurant rating of each locality and find out the top 10 localities with more weighted restaurant rating?"
   ]
  },
  {
   "cell_type": "markdown",
   "metadata": {},
   "source": [
    "### (1)Weighted Restaurant Rating=Σ (number of votes * rating) / Σ (number of votes) ."
   ]
  },
  {
   "cell_type": "code",
   "execution_count": 8,
   "metadata": {},
   "outputs": [
    {
     "name": "stdout",
     "output_type": "stream",
     "text": [
      "Chatham-Kent\n",
      "Lorne Street\n",
      "Sheikh Sarai\n",
      "Al Barari\n",
      "Wakad\n",
      "Dhantoli\n",
      "Ashram Road\n",
      "12th Square Building, Banjara Hills\n",
      "Anjuna Beach, Anjuna\n",
      "Boundary Street, Shoreditch\n"
     ]
    }
   ],
   "source": [
    "import numpy as np\n",
    "import pandas as pd\n",
    "import matplotlib.pyplot as plt\n",
    "iris=pd.read_csv('C:/Users/Ankit Aggarwal/Desktop/zomato.csv',encoding='ISO-8859-1')\n",
    "df=iris.copy()\n",
    "locality=[]\n",
    "Weighted_Restaurant_Rating=[]\n",
    "top_10_locality=[]\n",
    "top_10_weighted=[]\n",
    "new=df.Locality.value_counts()\n",
    "new_val=new.index\n",
    "for i in new_val:\n",
    "    locality.append(i)\n",
    "    tf=df[df.Locality==i]\n",
    "    af=tf.copy()\n",
    "    af['new_col']=tf['Votes']*tf['Aggregate rating']\n",
    "    total=af.new_col.sum()\n",
    "    count=af.Votes.sum()\n",
    "    if count==0:\n",
    "        continue\n",
    "    weighted=total/count\n",
    "    Weighted_Restaurant_Rating.append(weighted)\n",
    "for k in range(10):\n",
    "    maxi=-999999\n",
    "    for i in range(len(Weighted_Restaurant_Rating)):\n",
    "            if Weighted_Restaurant_Rating[i]>maxi:\n",
    "                ind=i\n",
    "                maxi=Weighted_Restaurant_Rating[i]\n",
    "                max_locality=new_val[i]\n",
    "    top_10_locality.append(max_locality)\n",
    "    top_10_weighted.append(maxi)\n",
    "    Weighted_Restaurant_Rating[ind]=-999999999999999\n",
    "for i in top_10_locality:\n",
    "    print(i)"
   ]
  },
  {
   "cell_type": "code",
   "execution_count": null,
   "metadata": {},
   "outputs": [],
   "source": []
  },
  {
   "cell_type": "markdown",
   "metadata": {},
   "source": [
    "## (C)Visualization"
   ]
  },
  {
   "cell_type": "markdown",
   "metadata": {},
   "source": [
    "### (1)Plot the bar graph top 15 restaurants have a maximum number of outlets."
   ]
  },
  {
   "cell_type": "code",
   "execution_count": 16,
   "metadata": {},
   "outputs": [
    {
     "data": {
      "image/png": "[encoded data removed]",
      "text/plain": [
       "<Figure size 432x288 with 1 Axes>"
      ]
     },
     "metadata": {
      "needs_background": "light"
     },
     "output_type": "display_data"
    }
   ],
   "source": [
    "import numpy as np\n",
    "import pandas as pd\n",
    "import matplotlib.pyplot as plt\n",
    "iris=pd.read_csv('C:/Users/Ankit Aggarwal/Desktop/zomato.csv',encoding='ISO-8859-1')\n",
    "df=iris.copy()\n",
    "df['Restaurant Name'].replace(\"Giani's\",'Giani',inplace=True)\n",
    "new=df['Restaurant Name'].value_counts()\n",
    "top_15_res=new.index[0:15]\n",
    "top_15_out=new.values[0:15]\n",
    "plt.bar(top_15_res,top_15_out)\n",
    "plt.xlabel('Restaurants')\n",
    "plt.ylabel('Number of oulets')\n",
    "plt.xticks(rotation=90)\n",
    "plt.show()"
   ]
  },
  {
   "cell_type": "code",
   "execution_count": null,
   "metadata": {},
   "outputs": [],
   "source": []
  },
  {
   "cell_type": "markdown",
   "metadata": {},
   "source": [
    "### (2)Plot the histogram of aggregate rating of restaurant( drop the unrated restaurant)."
   ]
  },
  {
   "cell_type": "code",
   "execution_count": 17,
   "metadata": {},
   "outputs": [
    {
     "data": {
      "image/png": "[encoded data removed]",
      "text/plain": [
       "<Figure size 432x288 with 1 Axes>"
      ]
     },
     "metadata": {
      "needs_background": "light"
     },
     "output_type": "display_data"
    }
   ],
   "source": [
    "import numpy as np\n",
    "import pandas as pd\n",
    "import matplotlib.pyplot as plt\n",
    "iris=pd.read_csv('C:/Users/Ankit Aggarwal/Desktop/zomato.csv',encoding='ISO-8859-1')\n",
    "df=iris.copy()\n",
    "new=df['Aggregate rating']\n",
    "plt.hist(new)\n",
    "plt.xlabel('Aggregate rating')\n",
    "plt.show()"
   ]
  },
  {
   "cell_type": "code",
   "execution_count": null,
   "metadata": {},
   "outputs": [],
   "source": []
  },
  {
   "cell_type": "markdown",
   "metadata": {},
   "source": [
    "### (3)Plot the bar graph top 10 restaurants in the data with the highest number of votes."
   ]
  },
  {
   "cell_type": "code",
   "execution_count": 3,
   "metadata": {},
   "outputs": [
    {
     "data": {
      "image/png": "[encoded data removed]",
      "text/plain": [
       "<Figure size 432x288 with 1 Axes>"
      ]
     },
     "metadata": {
      "needs_background": "light"
     },
     "output_type": "display_data"
    }
   ],
   "source": [
    "import numpy as np\n",
    "import pandas as pd\n",
    "import matplotlib.pyplot as plt\n",
    "iris=pd.read_csv('C:/Users/Ankit Aggarwal/Desktop/zomato.csv',encoding='ISO-8859-1')\n",
    "df=iris.copy()\n",
    "new_votes=df.Votes.values\n",
    "top_10_res=[]\n",
    "top_10_votes=[]\n",
    "new_res_name=df['Restaurant Name'].values\n",
    "for k in range(10):\n",
    "    maxi=-999999\n",
    "    for i in range(len(new_votes)):\n",
    "        if new_votes[i]>maxi:\n",
    "            ind=i\n",
    "            maxi=new_votes[i]\n",
    "            max_locality=new_res_name[i]\n",
    "    top_10_res.append(max_locality)\n",
    "    top_10_votes.append(maxi)\n",
    "    new_votes[ind]=-999999999999\n",
    "plt.bar(top_10_res,top_10_votes)\n",
    "plt.xlabel('Restaurants')\n",
    "plt.ylabel('Votes')\n",
    "plt.xticks(rotation=40)\n",
    "plt.show()"
   ]
  },
  {
   "cell_type": "code",
   "execution_count": null,
   "metadata": {},
   "outputs": [],
   "source": []
  },
  {
   "cell_type": "markdown",
   "metadata": {},
   "source": [
    "### (4)Plot the pie graph of top 10 cuisines present in restaurants in the USA."
   ]
  },
  {
   "cell_type": "code",
   "execution_count": 22,
   "metadata": {},
   "outputs": [
    {
     "data": {
      "image/png": "[encoded data removed]",
      "text/plain": [
       "<Figure size 432x288 with 1 Axes>"
      ]
     },
     "metadata": {},
     "output_type": "display_data"
    }
   ],
   "source": [
    "import numpy as np\n",
    "import pandas as pd\n",
    "import matplotlib.pyplot as plt\n",
    "iris=pd.read_csv('C:/Users/Ankit Aggarwal/Desktop/zomato.csv',encoding='ISO-8859-1')\n",
    "df=iris.copy()\n",
    "total=[]\n",
    "final_dict={}\n",
    "ef=df[df['Country Code']==216]\n",
    "ef.Cuisines.fillna('',inplace=True)\n",
    "tf=ef.copy()\n",
    "final_cuisine=[]\n",
    "final_count=[]\n",
    "def f(s):\n",
    "    if s!='':\n",
    "        val=s.split(',')\n",
    "        new=[]\n",
    "        if len(val)==1:\n",
    "            return val[0].strip()\n",
    "        else:\n",
    "            for i in val:\n",
    "                new.append(i.strip())\n",
    "            return new\n",
    "    return 0       \n",
    "kf['total_Cuisines']=tf.Cuisines.apply(f)\n",
    "new=kf.total_Cuisines.value_counts()\n",
    "new_val=new.index\n",
    "for i in new_val:\n",
    "    if i==0:\n",
    "        continue\n",
    "    if type(i)==str:\n",
    "        total.append(i)\n",
    "    else:\n",
    "        for j in i:\n",
    "            total.append(j)\n",
    "for i in total:\n",
    "    if i in final_dict:\n",
    "        final_dict[i]+=1\n",
    "    else:\n",
    "        final_dict[i]=1\n",
    "for k in range(10):\n",
    "    maxi=-99999\n",
    "    for i in final_dict:\n",
    "        if final_dict[i]>maxi:\n",
    "            val=i\n",
    "            maxi=final_dict[i]\n",
    "    final_cuisine.append(val)\n",
    "    final_count.append(maxi)\n",
    "    final_dict[val]=-99999999\n",
    "plt.pie(final_count,labels=final_cuisine,autopct='%.2f%%')\n",
    "plt.show()"
   ]
  },
  {
   "cell_type": "code",
   "execution_count": null,
   "metadata": {},
   "outputs": [],
   "source": []
  },
  {
   "cell_type": "markdown",
   "metadata": {},
   "source": [
    "### (5)Plot the bubble graph of a number of Restaurants present in the city of India and keeping the weighted restaurant rating of the city in a bubble."
   ]
  },
  {
   "cell_type": "code",
   "execution_count": 16,
   "metadata": {},
   "outputs": [
    {
     "data": {
      "image/png": "[encoded data removed]",
      "text/plain": [
       "<Figure size 432x288 with 1 Axes>"
      ]
     },
     "metadata": {
      "needs_background": "light"
     },
     "output_type": "display_data"
    }
   ],
   "source": [
    "import numpy as np\n",
    "import pandas as pd\n",
    "import matplotlib.pyplot as plt\n",
    "iris=pd.read_csv('C:/Users/Ankit Aggarwal/Desktop/zomato.csv',encoding='ISO-8859-1')\n",
    "df=iris.copy()\n",
    "locality=[]\n",
    "ef=df[df['Country Code']==1]\n",
    "new=ef.City.value_counts()\n",
    "Weighted_Restaurant_Rating=[]\n",
    "res_name=new.index\n",
    "no_of_res=new.values\n",
    "for i in res_name:\n",
    "    locality.append(i)\n",
    "    tf=df[df.City==i]\n",
    "    af=tf.copy()\n",
    "    af['new_col']=tf['Votes']*tf['Aggregate rating']\n",
    "    total=af.new_col.sum()\n",
    "    count=af.Votes.sum()\n",
    "    weighted=total/count\n",
    "    Weighted_Restaurant_Rating.append(weighted)\n",
    "Weighted_Restaurant_Rating = [ round(elem, 1) for elem in Weighted_Restaurant_Rating]\n",
    "plt.scatter(res_name,no_of_res,s=100,color='pink')\n",
    "plt.xlabel('Cities')\n",
    "plt.ylabel('Number of Restaurants')\n",
    "plt.xticks(rotation=90)\n",
    "for i in range(len(Weighted_Restaurant_Rating)):\n",
    "    plt.text(res_name[i],no_of_res[i],Weighted_Restaurant_Rating[i])\n",
    "plt.show()"
   ]
  },
  {
   "cell_type": "code",
   "execution_count": null,
   "metadata": {},
   "outputs": [],
   "source": []
  },
  {
   "cell_type": "code",
   "execution_count": null,
   "metadata": {},
   "outputs": [],
   "source": []
  },
  {
   "cell_type": "code",
   "execution_count": null,
   "metadata": {},
   "outputs": [],
   "source": []
  },
  {
   "cell_type": "code",
   "execution_count": null,
   "metadata": {},
   "outputs": [],
   "source": []
  },
  {
   "cell_type": "code",
   "execution_count": null,
   "metadata": {},
   "outputs": [],
   "source": []
  },
  {
   "cell_type": "code",
   "execution_count": null,
   "metadata": {},
   "outputs": [],
   "source": []
  },
  {
   "cell_type": "code",
   "execution_count": null,
   "metadata": {},
   "outputs": [],
   "source": []
  },
  {
   "cell_type": "code",
   "execution_count": null,
   "metadata": {},
   "outputs": [],
   "source": []
  },
  {
   "cell_type": "code",
   "execution_count": null,
   "metadata": {},
   "outputs": [],
   "source": []
  },
  {
   "cell_type": "code",
   "execution_count": null,
   "metadata": {},
   "outputs": [],
   "source": []
  },
  {
   "cell_type": "code",
   "execution_count": null,
   "metadata": {},
   "outputs": [],
   "source": []
  },
  {
   "cell_type": "code",
   "execution_count": null,
   "metadata": {},
   "outputs": [],
   "source": []
  },
  {
   "cell_type": "code",
   "execution_count": null,
   "metadata": {},
   "outputs": [],
   "source": []
  },
  {
   "cell_type": "code",
   "execution_count": null,
   "metadata": {},
   "outputs": [],
   "source": []
  },
  {
   "cell_type": "code",
   "execution_count": null,
   "metadata": {},
   "outputs": [],
   "source": []
  },
  {
   "cell_type": "code",
   "execution_count": null,
   "metadata": {},
   "outputs": [],
   "source": []
  }
 ],
 "metadata": {
  "kernelspec": {
   "display_name": "Python 3",
   "language": "python",
   "name": "python3"
  },
  "language_info": {
   "codemirror_mode": {
    "name": "ipython",
    "version": 3
   },
   "file_extension": ".py",
   "mimetype": "text/x-python",
   "name": "python",
   "nbconvert_exporter": "python",
   "pygments_lexer": "ipython3",
   "version": "3.7.3"
  }
 },
 "nbformat": 4,
 "nbformat_minor": 2
}
